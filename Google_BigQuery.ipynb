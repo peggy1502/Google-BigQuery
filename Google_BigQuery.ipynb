{
 "cells": [
  {
   "attachments": {
    "image.png": {
     "image/png": "[encoded data removed]"
    }
   },
   "cell_type": "markdown",
   "metadata": {},
   "source": [
    "# Insights from Data with BigQuery: Challenge Lab\n",
    "\n",
    "\n",
    "This notebook is written to document my solutions to the Google Cloud [challenge lab](https://google.qwiklabs.com/focuses/11988?parent=catalog) for the **[Insights from Data with BigQuery](https://google.qwiklabs.com/quests/123)** quest.\n",
    "\n",
    "You can earn a skill badge after completing the quest and the challenge lab.\n",
    "\n",
    "[![image.png](attachment:image.png)](https://google.qwiklabs.com/public_profiles/c0a951c2-747f-4e4a-9520-3a67696131fb)\n",
    "\n"
   ]
  },
  {
   "cell_type": "markdown",
   "metadata": {},
   "source": [
    "## Scenario\n",
    "\n",
    "You're part of a public health organization which is tasked with identifying answers to queries related to the Covid-19 pandemic. Obtaining the right answers will help the organization in planning and focusing healthcare efforts and awareness programs appropriately.\n",
    "\n",
    "\n",
    "## Dataset\n",
    "\n",
    "The **COVID-19 Open Data** is available under the **BigQuery Public Datasets Program**. \n",
    "\n",
    "The dataset and table that will be used for this analysis will be : `bigquery-public-data.covid19_open_data.covid19_open_data`. This repository contains country-level datasets of daily time-series data related to COVID-19 globally. It includes data relating to demographics, economy, epidemiology, geography, health, hospitalizations, mobility, government response, and weather."
   ]
  },
  {
   "cell_type": "markdown",
   "metadata": {},
   "source": [
    "## Query 1: Total Confirmed Cases\n",
    "\n",
    "Build a query that will answer **\"What was the total count of confirmed cases on Apr 15, 2020?\"** \n",
    "\n",
    "The query needs to return a single row containing the sum of confirmed cases across all countries. The name of the column should be `total_cases_worldwide`.\n"
   ]
  },
  {
   "cell_type": "code",
   "execution_count": null,
   "metadata": {},
   "outputs": [],
   "source": [
    "# Query 1 - Solution:\n",
    "\n",
    "SELECT SUM(cumulative_confirmed) AS total_cases_worldwide\n",
    "FROM bigquery-public-data.covid19_open_data.covid19_open_data\n",
    "WHERE date = '2020-04-15'"
   ]
  },
  {
   "cell_type": "markdown",
   "metadata": {},
   "source": [
    "![Q1](Q1.PNG)"
   ]
  },
  {
   "cell_type": "markdown",
   "metadata": {},
   "source": [
    "## Query 2: Worst Affected Areas\n",
    "\n",
    "Build a query for answering **\"How many states in the US had more than 100 deaths on Apr 10, 2020?\"** \n",
    "\n",
    "The query needs to list the output in the field `count_of_states`. \n",
    "\n",
    "(Hint: Don't include NULL values)\n"
   ]
  },
  {
   "cell_type": "code",
   "execution_count": null,
   "metadata": {},
   "outputs": [],
   "source": [
    "# Query 2 - Solution:\n",
    "\n",
    "WITH US_States AS\n",
    "(\n",
    "    SELECT subregion1_name, SUM(cumulative_deceased) AS state_cumulative_deceased\n",
    "    FROM bigquery-public-data.covid19_open_data.covid19_open_data\n",
    "    WHERE country_name = \"United States of America\"\n",
    "    AND date = '2020-04-10'\n",
    "    AND subregion1_name IS NOT NULL\n",
    "    GROUP BY subregion1_name\n",
    ")\n",
    "\n",
    "SELECT COUNT(subregion1_name) AS count_of_states\n",
    "FROM US_States\n",
    "WHERE state_cumulative_deceased > 100;"
   ]
  },
  {
   "cell_type": "markdown",
   "metadata": {},
   "source": [
    "![Q2](Q2.PNG)"
   ]
  },
  {
   "cell_type": "markdown",
   "metadata": {},
   "source": [
    "## Query 3: Identifying Hotspots\n",
    "\n",
    "Build a query that will answer **\"List all the states in the United States of America that had more than 1000 confirmed cases on Apr 10, 2020?\"** \n",
    "\n",
    "The query needs to return the State Name and the corresponding confirmed cases arranged in descending order. Name of the fields to return: `state` and `total_confirmed_cases`."
   ]
  },
  {
   "cell_type": "code",
   "execution_count": null,
   "metadata": {},
   "outputs": [],
   "source": [
    "# Query 3 - Solution:\n",
    "\n",
    "SELECT subregion1_name AS state,\n",
    "    SUM(cumulative_confirmed) AS total_confirmed_cases\n",
    "FROM bigquery-public-data.covid19_open_data.covid19_open_data\n",
    "WHERE country_code = 'US'\n",
    "AND date = '2020-04-10'\n",
    "AND subregion1_name IS NOT NULL\n",
    "GROUP BY subregion1_name\n",
    "HAVING total_confirmed_cases > 1000\n",
    "ORDER BY total_confirmed_cases DESC"
   ]
  },
  {
   "cell_type": "markdown",
   "metadata": {},
   "source": [
    "![Q3](Q3.PNG)"
   ]
  },
  {
   "cell_type": "markdown",
   "metadata": {},
   "source": [
    "## Query 4: Fatality Ratio\n",
    "\n",
    "Build a query that will answer **\"What was the case-fatality ratio in Italy for the month of April 2020?\"** \n",
    "\n",
    "Case-fatality ratio here is defined as `(total deaths / total confirmed cases) * 100`. \n",
    "\n",
    "Write a query to return the ratio for the month of April 2020 and containing the following fields in the output: `total_confirmed_cases`, `total_deaths`, `case_fatality_ratio`."
   ]
  },
  {
   "cell_type": "code",
   "execution_count": null,
   "metadata": {},
   "outputs": [],
   "source": [
    "# Query 4 - Solution:\n",
    "\n",
    "SELECT SUM(cumulative_confirmed) AS total_confirmed_cases,\n",
    "    SUM(cumulative_deceased) AS total_deaths,\n",
    "    SUM(cumulative_deceased)/SUM(cumulative_confirmed)*100 AS case_fatality_ratio\n",
    "FROM bigquery-public-data.covid19_open_data.covid19_open_data\n",
    "WHERE country_name = 'Italy'\n",
    "AND date BETWEEN '2020-04-01' AND '2020-04-30'"
   ]
  },
  {
   "cell_type": "markdown",
   "metadata": {},
   "source": [
    "![Q4](Q4.PNG)"
   ]
  },
  {
   "cell_type": "markdown",
   "metadata": {},
   "source": [
    "## Query 5: Identifying specific day\n",
    "\n",
    "Build a query that will answer: **\"On what day did the total number of deaths cross 10000 in Italy?\"** \n",
    "\n",
    "The query should return the date in the format `yyyy-mm-dd`.\n"
   ]
  },
  {
   "cell_type": "code",
   "execution_count": null,
   "metadata": {},
   "outputs": [],
   "source": [
    "# Query 5 - Solution:\n",
    "\n",
    "SELECT date\n",
    "FROM bigquery-public-data.covid19_open_data.covid19_open_data\n",
    "WHERE country_name = 'Italy'\n",
    "AND cumulative_deceased > 10000\n",
    "ORDER BY date\n",
    "LIMIT 1"
   ]
  },
  {
   "cell_type": "markdown",
   "metadata": {},
   "source": [
    "![Q5](Q5.PNG)"
   ]
  },
  {
   "cell_type": "markdown",
   "metadata": {},
   "source": [
    "## Query 6: Finding days with zero net new cases\n",
    "\n",
    "The following query is written to identify the number of days in India between 21 Feb 2020 and 15 March 2020 when there were zero increases in the number of confirmed cases. However it is not executing properly. You need to update the query to complete it and obtain the result.\n"
   ]
  },
  {
   "cell_type": "code",
   "execution_count": null,
   "metadata": {},
   "outputs": [],
   "source": [
    "# Query 6 - Solution:\n",
    "\n",
    "WITH india_cases_by_date AS (\n",
    "    SELECT date, SUM(cumulative_confirmed) AS cases\n",
    "    FROM bigquery-public-data.covid19_open_data.covid19_open_data\n",
    "    WHERE country_name = 'India'\n",
    "    AND date between '2020-02-21' and '2020-03-15'\n",
    "    GROUP BY date\n",
    "    ORDER BY date ASC\n",
    "), \n",
    "    india_previous_day_comparison AS (\n",
    "    SELECT date, cases,\n",
    "    LAG(cases) OVER(ORDER BY date) AS previous_day,\n",
    "    cases - LAG(cases) OVER(ORDER BY date) AS net_new_cases\n",
    "    FROM india_cases_by_date\n",
    ")\n",
    "    \n",
    "SELECT COUNT(*) FROM india_previous_day_comparison\n",
    "WHERE net_new_cases = 0  "
   ]
  },
  {
   "cell_type": "markdown",
   "metadata": {},
   "source": [
    "![Q6](Q6.PNG)"
   ]
  },
  {
   "cell_type": "markdown",
   "metadata": {},
   "source": [
    "## Query 7: Doubling rate\n",
    "\n",
    "Using the previous query as a template, write a query to find out the dates on which the confirmed cases increased by more than 10% compared to the previous day (indicating doubling rate of ~ 7 days) in the US between the dates March 22, 2020 and April 20, 2020. \n",
    "\n",
    "The query needs to return the list of dates, the confirmed cases on that day, the confirmed cases the previous day, and the percentage increase in cases between the days. \n",
    "\n",
    "Use the following names for the returned fields: `Date`, `Confirmed_Cases_On_Day`, `Confirmed_Cases_Previous_Day` and `Percentage_Increase_In_Cases`.\n"
   ]
  },
  {
   "cell_type": "code",
   "execution_count": null,
   "metadata": {},
   "outputs": [],
   "source": [
    "# Query 7 - Solution:\n",
    "\n",
    "WITH US_cases_by_date AS (\n",
    "    SELECT date, SUM(cumulative_confirmed) AS cases\n",
    "    FROM bigquery-public-data.covid19_open_data.covid19_open_data\n",
    "    WHERE country_name = 'United States of America'\n",
    "    AND date BETWEEN '2020-03-22' AND '2020-04-20'\n",
    "    GROUP BY date\n",
    "    ORDER BY date ASC\n",
    "), \n",
    "    US_previous_day_comparison AS (\n",
    "    SELECT date, cases AS Confirmed_Cases_On_Day,\n",
    "    LAG(cases) OVER(ORDER BY date) AS Confirmed_Cases_Previous_Day,\n",
    "    (cases - LAG(cases) OVER(ORDER BY date)) / LAG(cases) OVER(ORDER BY date) * 100 AS Percentage_Increase_In_Cases\n",
    "    FROM US_cases_by_date\n",
    ")\n",
    "    \n",
    "SELECT Date, Confirmed_Cases_On_Day, Confirmed_Cases_Previous_Day, Percentage_Increase_In_Cases\n",
    "FROM US_previous_day_comparison\n",
    "WHERE Percentage_Increase_In_Cases > 10 \n"
   ]
  },
  {
   "cell_type": "markdown",
   "metadata": {},
   "source": [
    "![Q7](Q7.PNG)"
   ]
  },
  {
   "cell_type": "markdown",
   "metadata": {},
   "source": [
    "## Query 8: Recovery rate\n",
    "\n",
    "Build a query to list the recovery rates of countries arranged in descending order (limit to 10) on the date May 10, 2020. Restrict the query to only those countries having more than 50K confirmed cases. The query needs to return the following fields: `country`, `recovered_cases`, `confirmed_cases`, `recovery_rate`.\n"
   ]
  },
  {
   "cell_type": "code",
   "execution_count": null,
   "metadata": {},
   "outputs": [],
   "source": [
    "# Query 8 - Solution:\n",
    "\n",
    "WITH country_cases AS (\n",
    "    SELECT country_name AS country,\n",
    "        SUM(cumulative_confirmed) AS confirmed_cases,\n",
    "        SUM(cumulative_recovered) AS recovered_cases\n",
    "    FROM bigquery-public-data.covid19_open_data.covid19_open_data\n",
    "    WHERE date = \"2020-05-10\"\n",
    "    GROUP BY country_name\n",
    "),\n",
    "    country_recovery_rate AS (\n",
    "    SELECT country, confirmed_cases, recovered_cases,\n",
    "        (recovered_cases / confirmed_cases * 100) AS recovery_rate\n",
    "    FROM country_cases\n",
    ")\n",
    "\n",
    "SELECT country, confirmed_cases, recovered_cases, recovery_rate\n",
    "FROM country_recovery_rate\n",
    "WHERE confirmed_cases > 50000\n",
    "ORDER BY recovery_rate DESC\n",
    "LIMIT 10\n"
   ]
  },
  {
   "cell_type": "markdown",
   "metadata": {},
   "source": [
    "![Q8](Q8.PNG)"
   ]
  },
  {
   "cell_type": "markdown",
   "metadata": {},
   "source": [
    "## Query 9: CDGR - Cumulative Daily Growth Rate\n",
    "\n",
    "The following query is trying to calculate the CDGR on May 10, 2020 (Cumulative Daily Growth Rate) for France since the day the first case was reported. The first case was reported on Jan 24, 2020. The CDGR is calculated as:\n",
    "`((last_day_cases/first_day_cases)^1/days_diff)-1)`\n",
    "\n",
    "Where :\n",
    "\n",
    "-\t`last_day_cases` is the number of confirmed cases on May 10, 2020\n",
    "-\t`first_day_cases` is the number of confirmed cases on Jan 24, 2020\n",
    "-\t`days_diff` is the number of days between Jan 24 - May 10, 2020\n",
    "\n",
    "The query isn’t executing properly. Fix the error to make the query execute successfully.\n",
    "\n",
    "Note: Refer to the [this page](https://cloud.google.com/bigquery/docs/reference/standard-sql/functions-and-operators#lead) to learn more about the SQL function referenced **LEAD()**.\n"
   ]
  },
  {
   "cell_type": "code",
   "execution_count": null,
   "metadata": {},
   "outputs": [],
   "source": [
    "# Query 9 - Solution:\n",
    "\n",
    "WITH france_cases AS (\n",
    "    SELECT date, SUM(cumulative_confirmed) AS total_cases\n",
    "    FROM bigquery-public-data.covid19_open_data.covid19_open_data\n",
    "    WHERE country_name = \"France\"\n",
    "    AND date IN ('2020-01-24', '2020-05-10')\n",
    "    GROUP BY date\n",
    "    ORDER BY date\n",
    "), \n",
    "    summary AS (\n",
    "    SELECT total_cases AS first_day_cases,\n",
    "    LEAD(total_cases) OVER(ORDER BY date) AS last_day_cases,\n",
    "    DATE_DIFF(LEAD(date) OVER(ORDER BY date),date, day) AS days_diff\n",
    "    FROM france_cases\n",
    "    LIMIT 1\n",
    ")\n",
    "\n",
    "SELECT first_day_cases, last_day_cases, days_diff, \n",
    "    POWER((last_day_cases/first_day_cases), (1/days_diff)) - 1 AS cdgr\n",
    "FROM summary\n"
   ]
  },
  {
   "cell_type": "markdown",
   "metadata": {},
   "source": [
    "![Q9](Q9.PNG)"
   ]
  },
  {
   "cell_type": "markdown",
   "metadata": {},
   "source": [
    "## Create a Datastudio report\n",
    "\n",
    "Create a Datastudio report that plots the following for the United States:\n",
    "-\tNumber of Confirmed Cases\n",
    "-\tNumber of Deaths\n",
    "-\tDate range : 2020-03-15 to 2020-04-30\n",
    "\n",
    "Hint: Use the below image as a reference while building the report and make sure your report matches it.\n",
    "\n",
    "![Sample](sample.PNG)\n"
   ]
  },
  {
   "cell_type": "code",
   "execution_count": null,
   "metadata": {},
   "outputs": [],
   "source": [
    "# Solution:\n",
    "\n",
    "SELECT date, \n",
    "    SUM(cumulative_confirmed) AS country_cases,\n",
    "    SUM(cumulative_deceased) AS country_deaths\n",
    "FROM bigquery-public-data.covid19_open_data.covid19_open_data\n",
    "WHERE date BETWEEN '2020-03-15' AND '2020-04-30'\n",
    "    AND country_name = 'United States of America'\n",
    "GROUP BY date\n"
   ]
  },
  {
   "cell_type": "markdown",
   "metadata": {},
   "source": [
    "For this task, run the above query and select **Explore with Data Studio** from the Explore Data dropdown list.\n",
    "\n",
    "![Q10](Q10.PNG)"
   ]
  },
  {
   "cell_type": "markdown",
   "metadata": {},
   "source": [
    "On the Data Studio window, add a **time series** chart.\n",
    "\n",
    "At the bottom right section, under the Data tab, add or drag `country_cases` and `country_deaths` from Available Fields  into Metric."
   ]
  },
  {
   "cell_type": "markdown",
   "metadata": {},
   "source": [
    "![Q11](Q11.PNG)"
   ]
  }
 ],
 "metadata": {
  "kernelspec": {
   "display_name": "Python 3",
   "language": "python",
   "name": "python3"
  },
  "language_info": {
   "codemirror_mode": {
    "name": "ipython",
    "version": 3
   },
   "file_extension": ".py",
   "mimetype": "text/x-python",
   "name": "python",
   "nbconvert_exporter": "python",
   "pygments_lexer": "ipython3",
   "version": "3.7.4"
  }
 },
 "nbformat": 4,
 "nbformat_minor": 2
}
